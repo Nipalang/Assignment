{
  "nbformat": 4,
  "nbformat_minor": 0,
  "metadata": {
    "colab": {
      "provenance": [],
      "authorship_tag": "ABX9TyPXRzkvxMzzwNqKd9n1xG63",
      "include_colab_link": true
    },
    "kernelspec": {
      "name": "python3",
      "display_name": "Python 3"
    },
    "language_info": {
      "name": "python"
    }
  },
  "cells": [
    {
      "cell_type": "markdown",
      "metadata": {
        "id": "view-in-github",
        "colab_type": "text"
      },
      "source": [
        "<a href=\"https://colab.research.google.com/github/Nipalang/Assignment/blob/main/Nipalang_Luka_python_Ass_1.ipynb\" target=\"_parent\"><img src=\"https://colab.research.google.com/assets/colab-badge.svg\" alt=\"Open In Colab\"/></a>"
      ]
    },
    {
      "cell_type": "code",
      "execution_count": 3,
      "metadata": {
        "colab": {
          "base_uri": "https://localhost:8080/"
        },
        "id": "Pw2SgkwFhMHo",
        "outputId": "dbad0c14-3be2-4365-ff03-34e42f659da6"
      },
      "outputs": [
        {
          "output_type": "stream",
          "name": "stdout",
          "text": [
            "List 1: [5, 18, 1, 15, 17, 9, 16, 13]\n",
            "List 2: [27, 20, 11, 13, 17, 28, 10, 22]\n",
            "Merged list without duplicates: [1, 5, 9, 10, 11, 13, 15, 16, 17, 18, 20, 22, 27, 28]\n"
          ]
        }
      ],
      "source": [
        "#List\n",
        "import random\n",
        "# Generate two lists with random integers using import random\n",
        "list1 = random.sample(range(1, 20), 8)  # 8 random numbers between 1–20\n",
        "list2 = random.sample(range(10, 30), 8)  # 8 random numbers between 10–30\n",
        "\n",
        "print(\"List 1:\", list1)\n",
        "print(\"List 2:\", list2)\n",
        "# Merge and remove duplicates\n",
        "merged_list = list(set(list1 + list2))\n",
        "\n",
        "print(\"Merged list without duplicates:\", merged_list)"
      ]
    },
    {
      "cell_type": "code",
      "source": [
        "#question1 method 2\n",
        "#generate two lists with random intergers without using import random\n",
        "\n",
        "#define two lists of intergers\n",
        "\n",
        "list1 = [1,2,3,4,5,6,7,8]\n",
        "list2 =[1,3,4,5,6,9,10]\n",
        "\n",
        "#merging list1 and list2\n",
        "\n",
        "merged_List = list1+list2\n",
        "print(list(set(merged_List)))"
      ],
      "metadata": {
        "colab": {
          "base_uri": "https://localhost:8080/"
        },
        "id": "8-3iwgQakLmT",
        "outputId": "01b85c76-0611-404e-fe1c-6eac8ad2c446"
      },
      "execution_count": 4,
      "outputs": [
        {
          "output_type": "stream",
          "name": "stdout",
          "text": [
            "[1, 2, 3, 4, 5, 6, 7, 8, 9, 10]\n"
          ]
        }
      ]
    },
    {
      "cell_type": "code",
      "source": [
        "#question 2\n",
        "# Create a new list containing only even numbers\n",
        "even_numbers = [num for num in merged_List if num % 2 == 0]\n",
        "\n",
        "print(\"Even numbers from merged list:\", even_numbers)"
      ],
      "metadata": {
        "colab": {
          "base_uri": "https://localhost:8080/"
        },
        "id": "1oWayg_gld7E",
        "outputId": "2cc75cf4-2c63-44b4-9a03-5e6ee989b96e"
      },
      "execution_count": 6,
      "outputs": [
        {
          "output_type": "stream",
          "name": "stdout",
          "text": [
            "Even numbers from merged list: [2, 4, 6, 8, 4, 6, 10]\n"
          ]
        }
      ]
    },
    {
      "cell_type": "code",
      "source": [
        "#calculating sum and average\n",
        "#sum\n",
        "sum_even_numbers = sum(even_numbers)\n",
        "print(\"sum:\",sum_even_numbers)\n",
        "\n",
        "#Average\n",
        "numbers = even_numbers\n",
        "\n",
        "average = sum(even_numbers) / len(even_numbers)\n",
        "\n",
        "print(\"Average:\", average)"
      ],
      "metadata": {
        "colab": {
          "base_uri": "https://localhost:8080/"
        },
        "id": "qWZYo0Htmedv",
        "outputId": "c84789e5-7053-4402-acc3-42df5600e152"
      },
      "execution_count": 9,
      "outputs": [
        {
          "output_type": "stream",
          "name": "stdout",
          "text": [
            "sum: 40\n",
            "Average: 5.714285714285714\n"
          ]
        }
      ]
    },
    {
      "cell_type": "code",
      "source": [
        "#sorting list in descending order\n",
        "\n",
        "merged_List.sort(reverse=True)\n",
        "print(\"List sorted in descending order:\", merged_List)\n",
        "\n",
        "#reversing it back\n",
        "merged_List.reverse()\n",
        "print(\"List after reversing:\", merged_List)"
      ],
      "metadata": {
        "colab": {
          "base_uri": "https://localhost:8080/"
        },
        "id": "cO39Y949oRQJ",
        "outputId": "e08d553c-1704-4a15-f1d6-e49b05c4ffc7"
      },
      "execution_count": 11,
      "outputs": [
        {
          "output_type": "stream",
          "name": "stdout",
          "text": [
            "List sorted in descending order: [10, 9, 8, 7, 6, 6, 5, 5, 4, 4, 3, 3, 2, 1, 1]\n",
            "List after reversing: [1, 1, 2, 3, 3, 4, 4, 5, 5, 6, 6, 7, 8, 9, 10]\n"
          ]
        }
      ]
    },
    {
      "cell_type": "code",
      "source": [
        "#Tuples\n",
        "\n",
        "#Create a new tuple that contains the squares of all numbers in the original tuple.\n",
        "my_tuple = (1,2,3,4,5,6,7,8,9)\n",
        "my_squared_tuple = tuple(num ** 2 for num in my_tuple)\n",
        "print(my_tuple)\n",
        "print(my_squared_tuple)"
      ],
      "metadata": {
        "colab": {
          "base_uri": "https://localhost:8080/"
        },
        "id": "DWsTYEv0o-nj",
        "outputId": "28d2822d-faa6-4c13-80aa-fe151ab21a46"
      },
      "execution_count": 17,
      "outputs": [
        {
          "output_type": "stream",
          "name": "stdout",
          "text": [
            "(1, 2, 3, 4, 5, 6, 7, 8, 9)\n",
            "(1, 4, 9, 16, 25, 36, 49, 64, 81)\n"
          ]
        }
      ]
    },
    {
      "cell_type": "code",
      "source": [
        "#Write a function that checks if a specific element exists in the tuple. Return the index if it does.\n",
        "\n",
        "def find_in_tuple(my_tuple, element):\n",
        "    if element in my_tuple:\n",
        "        return my_tuple.index(element)\n",
        "    else:\n",
        "        return \"Element not found\"\n",
        "numbers = (10, 20, 30, 40, 50)\n",
        "print(find_in_tuple(numbers, 30))   # Output: 2\n",
        "print(find_in_tuple(numbers, 100))  # Output: Element not found"
      ],
      "metadata": {
        "colab": {
          "base_uri": "https://localhost:8080/"
        },
        "id": "My2SJZ7OrWji",
        "outputId": "d2a6b827-fa75-4e04-9d06-7185d34e9332"
      },
      "execution_count": 18,
      "outputs": [
        {
          "output_type": "stream",
          "name": "stdout",
          "text": [
            "2\n",
            "Element not found\n"
          ]
        }
      ]
    },
    {
      "cell_type": "code",
      "source": [
        "#Create a program that concatenates multiple tuples into one and removes duplicates.\n",
        "\n",
        "# Define multiple tuples\n",
        "tuple1 = (1, 2, 3, 4)\n",
        "tuple2 = (3, 4, 5, 6)\n",
        "tuple3 = (6, 7, 8, 9)\n",
        "\n",
        "# Concatenate all tuples\n",
        "combined_tuple = tuple1 + tuple2 + tuple3\n",
        "print(\"Combined tuple:\", combined_tuple)\n",
        "\n",
        "# Remove duplicates by converting to a set, then back to a tuple\n",
        "unique_tuple = tuple(set(combined_tuple))\n",
        "print(\"Tuple without duplicates:\", unique_tuple)\n"
      ],
      "metadata": {
        "colab": {
          "base_uri": "https://localhost:8080/"
        },
        "id": "9ImLbkUEsYbI",
        "outputId": "2aab4ea4-89f2-452b-c431-205c47ad9b76"
      },
      "execution_count": 19,
      "outputs": [
        {
          "output_type": "stream",
          "name": "stdout",
          "text": [
            "Combined tuple: (1, 2, 3, 4, 3, 4, 5, 6, 6, 7, 8, 9)\n",
            "Tuple without duplicates: (1, 2, 3, 4, 5, 6, 7, 8, 9)\n"
          ]
        }
      ]
    },
    {
      "cell_type": "code",
      "source": [
        "#Dictionaries\n",
        "#creating a dictionary\n",
        "students = {\"Nipalang\": 98, \"Kisel\": 89, \"Job\":76, \"Moses\":56, \"Godsave\":88}\n",
        "#average score\n",
        "average_score = sum(students.values()) / len(students)\n",
        "\n",
        "print(\"Average score:\", average_score)"
      ],
      "metadata": {
        "colab": {
          "base_uri": "https://localhost:8080/"
        },
        "id": "7Eec6lGNs977",
        "outputId": "1b84c2fc-a9d6-4226-b141-186df64b295a"
      },
      "execution_count": 20,
      "outputs": [
        {
          "output_type": "stream",
          "name": "stdout",
          "text": [
            "Average score: 81.4\n"
          ]
        }
      ]
    },
    {
      "cell_type": "code",
      "source": [
        "# Find highest and lowest scores\n",
        "highest_score = max(students.values())\n",
        "lowest_score = min(students.values())\n",
        "\n",
        "#find out who they are\n",
        "\n",
        "top_students = [name for name, score in students.items() if score == highest_score]\n",
        "bottom_students = [name for name, score in students.items() if score == lowest_score]\n",
        "\n",
        "#print result\n",
        "print(\"highest score:\",highest_score)\n",
        "print(\"lowest score:\",lowest_score)\n",
        "print(\"Lowest scoring student(s):\", \", \".join(bottom_students))\n",
        "print(\"highest scoring student(s):\", \", \".join(top_students))\n",
        "\n"
      ],
      "metadata": {
        "colab": {
          "base_uri": "https://localhost:8080/"
        },
        "id": "QfriHf8RugcO",
        "outputId": "443be3cb-7a5a-4bb0-a0fc-1b7384ec7683"
      },
      "execution_count": 24,
      "outputs": [
        {
          "output_type": "stream",
          "name": "stdout",
          "text": [
            "highest score: 98\n",
            "lowest score: 56\n",
            "Lowest scoring student(s): Moses\n",
            "highest scoring student(s): Nipalang\n"
          ]
        }
      ]
    },
    {
      "cell_type": "code",
      "source": [
        "\n",
        "\n",
        "# Ask user for student info\n",
        "name = input(\"Enter student's name: \")\n",
        "score = int(input(\"Enter student's score: \"))\n",
        "\n",
        "# Check if student already exists\n",
        "if name in students:\n",
        "    print(f\"{name} already exists. Updating score...\")\n",
        "else:\n",
        "    print(f\"Adding new student {name}...\")\n",
        "\n",
        "# Add or update score\n",
        "students[name] = score\n",
        "\n",
        "# Display updated dictionary\n",
        "print(\"\\nUpdated list of students and scores:\")\n",
        "for student, score in students.items():\n",
        "    print(f\"{student}: {score}\")"
      ],
      "metadata": {
        "colab": {
          "base_uri": "https://localhost:8080/"
        },
        "id": "0mEiSN6Tvq2E",
        "outputId": "0a1421a6-389d-4b07-965f-233d7d00d022"
      },
      "execution_count": 25,
      "outputs": [
        {
          "output_type": "stream",
          "name": "stdout",
          "text": [
            "Enter student's name: Jennifer\n",
            "Enter student's score: 67\n",
            "Adding new student Jennifer...\n",
            "\n",
            "Updated list of students and scores:\n",
            "Nipalang: 98\n",
            "Kisel: 89\n",
            "Job: 76\n",
            "Moses: 56\n",
            "Godsave: 88\n",
            "Jennifer: 67\n"
          ]
        }
      ]
    },
    {
      "cell_type": "code",
      "source": [
        "#SETS\n",
        "# Define two sets\n",
        "set1 = {1, 2, 3, 4, 5}\n",
        "set2 = {4, 5, 6, 7, 8}\n",
        "\n",
        "# Union (all unique elements from both sets)\n",
        "union_set = set1.union(set2)\n",
        "\n",
        "# Intersection (common elements)\n",
        "intersection_set = set1.intersection(set2)\n",
        "\n",
        "# Difference (elements in set1 but not in set2)\n",
        "difference_set = set1.difference(set2)\n",
        "#symetric difference\n",
        "symmetric_diff = set1 ^ set2\n",
        "print(\"symetric difference:\",symmetric_diff)  # Output: {1, 2, 3, 6, 7, 8}\n",
        "\n",
        "# Display results\n",
        "print(\"Set 1:\", set1)\n",
        "print(\"Set 2:\", set2)\n",
        "print(\"Union:\", union_set)\n",
        "print(\"Intersection:\", intersection_set)\n",
        "print(\"Difference (Set1 - Set2):\", difference_set)"
      ],
      "metadata": {
        "colab": {
          "base_uri": "https://localhost:8080/"
        },
        "id": "AnQno6n2wXkQ",
        "outputId": "50e8d92f-0281-493c-dee6-ef89e262dff4"
      },
      "execution_count": 28,
      "outputs": [
        {
          "output_type": "stream",
          "name": "stdout",
          "text": [
            "symetric difference: {1, 2, 3, 6, 7, 8}\n",
            "Set 1: {1, 2, 3, 4, 5}\n",
            "Set 2: {4, 5, 6, 7, 8}\n",
            "Union: {1, 2, 3, 4, 5, 6, 7, 8}\n",
            "Intersection: {4, 5}\n",
            "Difference (Set1 - Set2): {1, 2, 3}\n"
          ]
        }
      ]
    },
    {
      "cell_type": "code",
      "source": [
        "#Creates a set from a list and removes all duplicate values in one operation.\n",
        "\n",
        "myy_list =[\"banana\", \"mango\", \"orange\", \"apple\",\"banana\", \"orange\"]\n",
        "myy_list = set(myy_list)\n",
        "print(myy_list)\n"
      ],
      "metadata": {
        "colab": {
          "base_uri": "https://localhost:8080/"
        },
        "id": "bZIqxvmyyVWs",
        "outputId": "a0d316cb-314b-4d0e-a6ec-e97cc1001848"
      },
      "execution_count": 29,
      "outputs": [
        {
          "output_type": "stream",
          "name": "stdout",
          "text": [
            "{'apple', 'orange', 'mango', 'banana'}\n"
          ]
        }
      ]
    },
    {
      "cell_type": "code",
      "source": [
        "#Write a Python function that accepts a list of numbers and:\n",
        "#Returns a list with \"High\" for numbers above 100, \"Medium\" for numbers between 50-100, and \"Low\" for numbers below 50.\n",
        "#Add an extra feature to count how many \"High\", \"Medium\", and \"Low\" values there are in the list.\n",
        "def categorize_numbers(numbers):\n",
        "    categories = []  # To store \"High\", \"Medium\", \"Low\"\n",
        "    counts = {\"High\": 0, \"Medium\": 0, \"Low\": 0}  # To count each category\n",
        "\n",
        "    for num in numbers:\n",
        "        if num > 100:\n",
        "            categories.append(\"High\")\n",
        "            counts[\"High\"] += 1\n",
        "        elif 50 <= num <= 100:\n",
        "            categories.append(\"Medium\")\n",
        "            counts[\"Medium\"] += 1\n",
        "        else:  # num < 50\n",
        "            categories.append(\"Low\")\n",
        "            counts[\"Low\"] += 1\n",
        "\n",
        "    return categories, counts\n",
        "\n",
        "# Example usage\n",
        "numbers_list = [20, 55, 120, 75, 40, 200, 90, 10]\n",
        "categories, counts = categorize_numbers(numbers_list)\n",
        "\n",
        "print(\"Categories:\", categories)\n",
        "print(\"Counts:\", counts)"
      ],
      "metadata": {
        "colab": {
          "base_uri": "https://localhost:8080/"
        },
        "id": "mdFXvtBO0v5j",
        "outputId": "cdfc9273-902c-4073-d933-6de40450326f"
      },
      "execution_count": 30,
      "outputs": [
        {
          "output_type": "stream",
          "name": "stdout",
          "text": [
            "Categories: ['Low', 'Medium', 'High', 'Medium', 'Low', 'High', 'Medium', 'Low']\n",
            "Counts: {'High': 2, 'Medium': 3, 'Low': 3}\n"
          ]
        }
      ]
    }
  ]
}